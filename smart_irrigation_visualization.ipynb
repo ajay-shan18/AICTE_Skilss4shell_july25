{
 "cells": [
  {
   "cell_type": "markdown",
   "id": "338f812e",
   "metadata": {},
   "source": [
    "# Smart Irrigation System Visualization\n",
    "\n",
    "This notebook visualizes the irrigation system activity based on parcel pump status over time.\n"
   ]
  },
  {
   "cell_type": "code",
   "execution_count": null,
   "id": "2cb9bcef",
   "metadata": {},
   "outputs": [],
   "source": [
    "import pandas as pd\n",
    "import matplotlib.pyplot as plt\n",
    "\n",
    "# Load the dataset\n",
    "df = pd.read_csv(\"irrigation_machine.csv\")\n",
    "\n",
    "# Drop 'Unnamed: 0' if present\n",
    "if 'Unnamed: 0' in df.columns:\n",
    "    df = df.drop('Unnamed: 0', axis=1)\n",
    "\n",
    "# Plot the irrigation pump status for each parcel\n",
    "plt.figure(figsize=(15, 5))\n",
    "plt.step(df.index, df['parcel_0'], where='post', linewidth=2, label='Parcel 0 Pump', color='blue')\n",
    "plt.step(df.index, df['parcel_1'], where='post', linewidth=2, label='Parcel 1 Pump', color='orange')\n",
    "plt.step(df.index, df['parcel_2'], where='post', linewidth=2, label='Parcel 2 Pump', color='green')\n",
    "\n",
    "plt.title(\"Irrigation System Pump Activity\")\n",
    "plt.xlabel(\"Time Index (Row Number)\")\n",
    "plt.ylabel(\"Status (0 = OFF, 1 = ON)\")\n",
    "plt.yticks([0, 1], ['OFF', 'ON'])\n",
    "plt.legend(loc='upper right')\n",
    "plt.tight_layout()\n",
    "plt.show()\n"
   ]
  }
 ],
 "metadata": {},
 "nbformat": 4,
 "nbformat_minor": 5
}
